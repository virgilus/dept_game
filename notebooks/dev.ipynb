{
 "cells": [
  {
   "cell_type": "markdown",
   "id": "5886de67-aa88-491d-95b9-1d4907441146",
   "metadata": {},
   "source": [
    "# Déroulement\n",
    "1. Trouver les données\n",
    "1. Ecrire une fonction qui vérifie si ce qu'a entrer l'utilisateur est égal au département aléatoirement\n",
    "1. ..."
   ]
  },
  {
   "cell_type": "code",
   "execution_count": 2,
   "id": "770b76d4-1d72-495b-8dea-f9be645bf017",
   "metadata": {},
   "outputs": [],
   "source": [
    "import pandas as pd"
   ]
  },
  {
   "cell_type": "code",
   "execution_count": 3,
   "id": "f2aa0a5a-5fda-429d-a2e3-850462f2a1bf",
   "metadata": {},
   "outputs": [],
   "source": [
    "URL = 'https://www.data.gouv.fr/fr/datasets/r/70cef74f-70b1-495a-8500-c089229c0254'\n",
    "dept_df = pd.read_csv(URL).set_index('code_departement')"
   ]
  },
  {
   "cell_type": "code",
   "execution_count": 4,
   "id": "1548b203-0b28-421e-ad66-4784df081ab0",
   "metadata": {},
   "outputs": [
    {
     "data": {
      "text/plain": [
       "'Guadeloupe'"
      ]
     },
     "execution_count": 4,
     "metadata": {},
     "output_type": "execute_result"
    }
   ],
   "source": [
    "dept_df.loc['971']['nom_departement']"
   ]
  },
  {
   "cell_type": "code",
   "execution_count": 5,
   "id": "f055afc4-a26f-4ab7-ad6d-eee388180ffe",
   "metadata": {},
   "outputs": [],
   "source": [
    "def load_df(URL: str=URL) -> pd.DataFrame:\n",
    "    return pd.read_csv(URL).set_index('code_departement')"
   ]
  },
  {
   "cell_type": "code",
   "execution_count": 6,
   "id": "dc849701-2048-4f6f-99e2-4c543ec1ab22",
   "metadata": {},
   "outputs": [],
   "source": [
    "df = load_df()"
   ]
  },
  {
   "cell_type": "code",
   "execution_count": 7,
   "id": "ad2d914f-791b-44f3-a2c7-4a8c980c6f12",
   "metadata": {},
   "outputs": [
    {
     "data": {
      "text/html": [
       "<div>\n",
       "<style scoped>\n",
       "    .dataframe tbody tr th:only-of-type {\n",
       "        vertical-align: middle;\n",
       "    }\n",
       "\n",
       "    .dataframe tbody tr th {\n",
       "        vertical-align: top;\n",
       "    }\n",
       "\n",
       "    .dataframe thead th {\n",
       "        text-align: right;\n",
       "    }\n",
       "</style>\n",
       "<table border=\"1\" class=\"dataframe\">\n",
       "  <thead>\n",
       "    <tr style=\"text-align: right;\">\n",
       "      <th></th>\n",
       "      <th>nom_departement</th>\n",
       "      <th>code_region</th>\n",
       "      <th>nom_region</th>\n",
       "    </tr>\n",
       "    <tr>\n",
       "      <th>code_departement</th>\n",
       "      <th></th>\n",
       "      <th></th>\n",
       "      <th></th>\n",
       "    </tr>\n",
       "  </thead>\n",
       "  <tbody>\n",
       "    <tr>\n",
       "      <th>01</th>\n",
       "      <td>Ain</td>\n",
       "      <td>84</td>\n",
       "      <td>Auvergne-Rhône-Alpes</td>\n",
       "    </tr>\n",
       "    <tr>\n",
       "      <th>02</th>\n",
       "      <td>Aisne</td>\n",
       "      <td>32</td>\n",
       "      <td>Hauts-de-France</td>\n",
       "    </tr>\n",
       "    <tr>\n",
       "      <th>03</th>\n",
       "      <td>Allier</td>\n",
       "      <td>84</td>\n",
       "      <td>Auvergne-Rhône-Alpes</td>\n",
       "    </tr>\n",
       "    <tr>\n",
       "      <th>04</th>\n",
       "      <td>Alpes-de-Haute-Provence</td>\n",
       "      <td>93</td>\n",
       "      <td>Provence-Alpes-Côte d'Azur</td>\n",
       "    </tr>\n",
       "    <tr>\n",
       "      <th>05</th>\n",
       "      <td>Hautes-Alpes</td>\n",
       "      <td>93</td>\n",
       "      <td>Provence-Alpes-Côte d'Azur</td>\n",
       "    </tr>\n",
       "    <tr>\n",
       "      <th>...</th>\n",
       "      <td>...</td>\n",
       "      <td>...</td>\n",
       "      <td>...</td>\n",
       "    </tr>\n",
       "    <tr>\n",
       "      <th>971</th>\n",
       "      <td>Guadeloupe</td>\n",
       "      <td>1</td>\n",
       "      <td>Guadeloupe</td>\n",
       "    </tr>\n",
       "    <tr>\n",
       "      <th>972</th>\n",
       "      <td>Martinique</td>\n",
       "      <td>2</td>\n",
       "      <td>Martinique</td>\n",
       "    </tr>\n",
       "    <tr>\n",
       "      <th>973</th>\n",
       "      <td>Guyane</td>\n",
       "      <td>3</td>\n",
       "      <td>Guyane</td>\n",
       "    </tr>\n",
       "    <tr>\n",
       "      <th>974</th>\n",
       "      <td>La Réunion</td>\n",
       "      <td>4</td>\n",
       "      <td>La Réunion</td>\n",
       "    </tr>\n",
       "    <tr>\n",
       "      <th>976</th>\n",
       "      <td>Mayotte</td>\n",
       "      <td>6</td>\n",
       "      <td>Mayotte</td>\n",
       "    </tr>\n",
       "  </tbody>\n",
       "</table>\n",
       "<p>101 rows × 3 columns</p>\n",
       "</div>"
      ],
      "text/plain": [
       "                          nom_departement  code_region  \\\n",
       "code_departement                                         \n",
       "01                                    Ain           84   \n",
       "02                                  Aisne           32   \n",
       "03                                 Allier           84   \n",
       "04                Alpes-de-Haute-Provence           93   \n",
       "05                           Hautes-Alpes           93   \n",
       "...                                   ...          ...   \n",
       "971                            Guadeloupe            1   \n",
       "972                            Martinique            2   \n",
       "973                                Guyane            3   \n",
       "974                            La Réunion            4   \n",
       "976                               Mayotte            6   \n",
       "\n",
       "                                  nom_region  \n",
       "code_departement                              \n",
       "01                      Auvergne-Rhône-Alpes  \n",
       "02                           Hauts-de-France  \n",
       "03                      Auvergne-Rhône-Alpes  \n",
       "04                Provence-Alpes-Côte d'Azur  \n",
       "05                Provence-Alpes-Côte d'Azur  \n",
       "...                                      ...  \n",
       "971                               Guadeloupe  \n",
       "972                               Martinique  \n",
       "973                                   Guyane  \n",
       "974                               La Réunion  \n",
       "976                                  Mayotte  \n",
       "\n",
       "[101 rows x 3 columns]"
      ]
     },
     "execution_count": 7,
     "metadata": {},
     "output_type": "execute_result"
    }
   ],
   "source": [
    "df"
   ]
  },
  {
   "cell_type": "code",
   "execution_count": null,
   "id": "40fb506d-c0bc-4d29-add3-07f54a6c2c8e",
   "metadata": {},
   "outputs": [],
   "source": [
    "list(df.index)"
   ]
  },
  {
   "cell_type": "code",
   "execution_count": 11,
   "id": "59fd9c0c-5491-4598-a41d-c59cdff492da",
   "metadata": {},
   "outputs": [],
   "source": [
    "from random import choice\n",
    "\n",
    "def play(df: pd.DataFrame) -> None:\n",
    "    dpt_a_trouver_lst = list(df.index)\n",
    "    while dpt_a_trouver_lst:\n",
    "        code = choice(dpt_a_trouver_lst)\n",
    "        bonne_reponse = df.loc[code]['nom_departement']\n",
    "        bonne_region = df.loc[code]['nom_region']\n",
    "        reponse = input(code + \" ?\")\n",
    "        check_answer(bonne_reponse, bonne_region, reponse)\n",
    "        dpt_a_trouver_lst.remove(code)\n",
    "    print(\"Vous avez tout trouvé, bravo !\")"
   ]
  },
  {
   "cell_type": "code",
   "execution_count": 35,
   "id": "4e646ded-441f-4ddf-bf22-5f533f3be19c",
   "metadata": {},
   "outputs": [],
   "source": [
    "def check_answer(bonne_reponse: str, bonne_region: str, reponse: str) -> bool:\n",
    "    if reponse == 'q':\n",
    "        print(\"Bye bye !\")\n",
    "    elif reponse == bonne_reponse:\n",
    "        print(f\"Gagné ! C'était bien le département : {bonne_reponse} ! Dans la région de {bonne_region}\")\n",
    "    else:\n",
    "        print(f\"Perdu ! Indice c'est dans la région : {bonne_region}\")\n",
    "        reponse = input(code + \" ?\")\n",
    "        check_answer(bonne_reponse, bonne_region, reponse) # Fonction récursive !"
   ]
  },
  {
   "cell_type": "code",
   "execution_count": 42,
   "id": "b851d345-9007-421d-90f1-9fa353718f71",
   "metadata": {},
   "outputs": [],
   "source": [
    "def play_code(df: pd.DataFrame) -> None:\n",
    "    dpt_a_trouver_lst = list(df['nom_departement'])\n",
    "    while dpt_a_trouver_lst:\n",
    "        nom_dpt = choice(dpt_a_trouver_lst)\n",
    "        bonne_reponse = str(df.loc[df['nom_departement'] == nom_dpt].index[0])\n",
    "        bonne_region = df.loc[df['nom_departement'] == nom_dpt]['nom_region'].iloc[0]\n",
    "        reponse = input(nom_dpt + \" ?\")\n",
    "        check_answer(bonne_reponse, bonne_region, reponse)\n",
    "        dpt_a_trouver_lst.remove(nom_dpt)\n",
    "    print(\"Vous avez tout trouvé, bravo !\")"
   ]
  },
  {
   "cell_type": "code",
   "execution_count": 43,
   "id": "51fe65d7-8d3c-4957-9d05-e58414f960fd",
   "metadata": {},
   "outputs": [
    {
     "name": "stdin",
     "output_type": "stream",
     "text": [
      "Hautes-Alpes ? 05\n"
     ]
    },
    {
     "name": "stdout",
     "output_type": "stream",
     "text": [
      "Gagné ! C'était bien le département : 05 ! Dans la région de Provence-Alpes-Côte d'Azur\n"
     ]
    },
    {
     "name": "stdin",
     "output_type": "stream",
     "text": [
      "Allier ? 03\n"
     ]
    },
    {
     "name": "stdout",
     "output_type": "stream",
     "text": [
      "Gagné ! C'était bien le département : 03 ! Dans la région de Auvergne-Rhône-Alpes\n"
     ]
    },
    {
     "name": "stdin",
     "output_type": "stream",
     "text": [
      "Aisne ? 02\n"
     ]
    },
    {
     "name": "stdout",
     "output_type": "stream",
     "text": [
      "Gagné ! C'était bien le département : 02 ! Dans la région de Hauts-de-France\n"
     ]
    },
    {
     "name": "stdin",
     "output_type": "stream",
     "text": [
      "Ain ? 01\n"
     ]
    },
    {
     "name": "stdout",
     "output_type": "stream",
     "text": [
      "Gagné ! C'était bien le département : 01 ! Dans la région de Auvergne-Rhône-Alpes\n"
     ]
    },
    {
     "name": "stdin",
     "output_type": "stream",
     "text": [
      "Alpes-de-Haute-Provence ? 04\n"
     ]
    },
    {
     "name": "stdout",
     "output_type": "stream",
     "text": [
      "Gagné ! C'était bien le département : 04 ! Dans la région de Provence-Alpes-Côte d'Azur\n",
      "Vous avez tout trouvé, bravo !\n"
     ]
    }
   ],
   "source": [
    "play_code(df[:5])"
   ]
  },
  {
   "cell_type": "code",
   "execution_count": 23,
   "id": "5c9ff53b-e400-45ce-9f94-6fbb9541a311",
   "metadata": {},
   "outputs": [
    {
     "data": {
      "text/plain": [
       "'01'"
      ]
     },
     "execution_count": 23,
     "metadata": {},
     "output_type": "execute_result"
    }
   ],
   "source": [
    "str(df.loc[df['nom_departement'] == 'Ain'].index[0])"
   ]
  },
  {
   "cell_type": "code",
   "execution_count": 34,
   "id": "c2a4b968-3520-4ff7-8727-4c78275f453d",
   "metadata": {},
   "outputs": [
    {
     "data": {
      "text/plain": [
       "'Auvergne-Rhône-Alpes'"
      ]
     },
     "execution_count": 34,
     "metadata": {},
     "output_type": "execute_result"
    }
   ],
   "source": [
    "df.loc[df['nom_departement'] == 'Ain']['nom_region'].iloc[0]"
   ]
  },
  {
   "cell_type": "code",
   "execution_count": null,
   "id": "340efd14-862e-480c-a7f9-2efe142dcac4",
   "metadata": {},
   "outputs": [],
   "source": [
    "from random import choice\n",
    "\n",
    "dpt_a_trouver_lst = list(df.index)\n",
    "code = choice(dpt_a_trouver_lst)\n",
    "bonne_reponse = df.loc[code]['nom_departement']\n",
    "bonne_region = df.loc[code]['nom_region']\n",
    "reponse = input(code + \" ?\")\n",
    "check_answer(bonne_reponse, bonne_region, reponse)"
   ]
  },
  {
   "cell_type": "code",
   "execution_count": 133,
   "id": "d0dadee3-7205-4e40-b54e-234e9ad58661",
   "metadata": {},
   "outputs": [
    {
     "data": {
      "text/html": [
       "<div style=\"width:100%;\"><div style=\"position:relative;width:100%;height:0;padding-bottom:60%;\"><span style=\"color:#565656\">Make this Notebook Trusted to load map: File -> Trust Notebook</span><iframe srcdoc=\"&lt;!DOCTYPE html&gt;\n",
       "&lt;html&gt;\n",
       "&lt;head&gt;\n",
       "    \n",
       "    &lt;meta http-equiv=&quot;content-type&quot; content=&quot;text/html; charset=UTF-8&quot; /&gt;\n",
       "    \n",
       "        &lt;script&gt;\n",
       "            L_NO_TOUCH = false;\n",
       "            L_DISABLE_3D = false;\n",
       "        &lt;/script&gt;\n",
       "    \n",
       "    &lt;style&gt;html, body {width: 100%;height: 100%;margin: 0;padding: 0;}&lt;/style&gt;\n",
       "    &lt;style&gt;#map {position:absolute;top:0;bottom:0;right:0;left:0;}&lt;/style&gt;\n",
       "    &lt;script src=&quot;https://cdn.jsdelivr.net/npm/leaflet@1.9.3/dist/leaflet.js&quot;&gt;&lt;/script&gt;\n",
       "    &lt;script src=&quot;https://code.jquery.com/jquery-3.7.1.min.js&quot;&gt;&lt;/script&gt;\n",
       "    &lt;script src=&quot;https://cdn.jsdelivr.net/npm/bootstrap@5.2.2/dist/js/bootstrap.bundle.min.js&quot;&gt;&lt;/script&gt;\n",
       "    &lt;script src=&quot;https://cdnjs.cloudflare.com/ajax/libs/Leaflet.awesome-markers/2.0.2/leaflet.awesome-markers.js&quot;&gt;&lt;/script&gt;\n",
       "    &lt;link rel=&quot;stylesheet&quot; href=&quot;https://cdn.jsdelivr.net/npm/leaflet@1.9.3/dist/leaflet.css&quot;/&gt;\n",
       "    &lt;link rel=&quot;stylesheet&quot; href=&quot;https://cdn.jsdelivr.net/npm/bootstrap@5.2.2/dist/css/bootstrap.min.css&quot;/&gt;\n",
       "    &lt;link rel=&quot;stylesheet&quot; href=&quot;https://netdna.bootstrapcdn.com/bootstrap/3.0.0/css/bootstrap-glyphicons.css&quot;/&gt;\n",
       "    &lt;link rel=&quot;stylesheet&quot; href=&quot;https://cdn.jsdelivr.net/npm/@fortawesome/fontawesome-free@6.2.0/css/all.min.css&quot;/&gt;\n",
       "    &lt;link rel=&quot;stylesheet&quot; href=&quot;https://cdnjs.cloudflare.com/ajax/libs/Leaflet.awesome-markers/2.0.2/leaflet.awesome-markers.css&quot;/&gt;\n",
       "    &lt;link rel=&quot;stylesheet&quot; href=&quot;https://cdn.jsdelivr.net/gh/python-visualization/folium/folium/templates/leaflet.awesome.rotate.min.css&quot;/&gt;\n",
       "    \n",
       "            &lt;meta name=&quot;viewport&quot; content=&quot;width=device-width,\n",
       "                initial-scale=1.0, maximum-scale=1.0, user-scalable=no&quot; /&gt;\n",
       "            &lt;style&gt;\n",
       "                #map_14c00bb624b0f48887450e9c1180e88f {\n",
       "                    position: relative;\n",
       "                    width: 100.0%;\n",
       "                    height: 100.0%;\n",
       "                    left: 0.0%;\n",
       "                    top: 0.0%;\n",
       "                }\n",
       "                .leaflet-container { font-size: 1rem; }\n",
       "            &lt;/style&gt;\n",
       "        \n",
       "&lt;/head&gt;\n",
       "&lt;body&gt;\n",
       "    \n",
       "    \n",
       "            &lt;div class=&quot;folium-map&quot; id=&quot;map_14c00bb624b0f48887450e9c1180e88f&quot; &gt;&lt;/div&gt;\n",
       "        \n",
       "&lt;/body&gt;\n",
       "&lt;script&gt;\n",
       "    \n",
       "    \n",
       "            var map_14c00bb624b0f48887450e9c1180e88f = L.map(\n",
       "                &quot;map_14c00bb624b0f48887450e9c1180e88f&quot;,\n",
       "                {\n",
       "                    center: [45.5236, -122.675],\n",
       "                    crs: L.CRS.EPSG3857,\n",
       "                    zoom: 10,\n",
       "                    zoomControl: true,\n",
       "                    preferCanvas: false,\n",
       "                }\n",
       "            );\n",
       "\n",
       "            \n",
       "\n",
       "        \n",
       "    \n",
       "            var tile_layer_af4510eb5f3eb99fb8f1426536c15871 = L.tileLayer(\n",
       "                &quot;https://tile.openstreetmap.org/{z}/{x}/{y}.png&quot;,\n",
       "                {&quot;attribution&quot;: &quot;\\u0026copy; \\u003ca href=\\&quot;https://www.openstreetmap.org/copyright\\&quot;\\u003eOpenStreetMap\\u003c/a\\u003e contributors&quot;, &quot;detectRetina&quot;: false, &quot;maxNativeZoom&quot;: 19, &quot;maxZoom&quot;: 19, &quot;minZoom&quot;: 0, &quot;noWrap&quot;: false, &quot;opacity&quot;: 1, &quot;subdomains&quot;: &quot;abc&quot;, &quot;tms&quot;: false}\n",
       "            );\n",
       "        \n",
       "    \n",
       "            tile_layer_af4510eb5f3eb99fb8f1426536c15871.addTo(map_14c00bb624b0f48887450e9c1180e88f);\n",
       "        \n",
       "&lt;/script&gt;\n",
       "&lt;/html&gt;\" style=\"position:absolute;width:100%;height:100%;left:0;top:0;border:none !important;\" allowfullscreen webkitallowfullscreen mozallowfullscreen></iframe></div></div>"
      ],
      "text/plain": [
       "<folium.folium.Map at 0x2ad06fb7ad0>"
      ]
     },
     "execution_count": 133,
     "metadata": {},
     "output_type": "execute_result"
    }
   ],
   "source": [
    "import folium\n",
    "m = folium.Map(location=(45.5236, -122.6750))\n",
    "m"
   ]
  }
 ],
 "metadata": {
  "kernelspec": {
   "display_name": "Python 3 (ipykernel)",
   "language": "python",
   "name": "python3"
  },
  "language_info": {
   "codemirror_mode": {
    "name": "ipython",
    "version": 3
   },
   "file_extension": ".py",
   "mimetype": "text/x-python",
   "name": "python",
   "nbconvert_exporter": "python",
   "pygments_lexer": "ipython3",
   "version": "3.12.4"
  }
 },
 "nbformat": 4,
 "nbformat_minor": 5
}
